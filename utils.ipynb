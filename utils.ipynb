{
 "cells": [
  {
   "cell_type": "code",
   "execution_count": null,
   "metadata": {},
   "outputs": [],
   "source": [
    "def get_entropy(entropy_path = \"wifiUbaLabo3/fuente_ent_info_red_wifi_UBA_Labo3.txt\"):\n",
    "    entropy_file = open(entropy_path, \"r\")\n",
    "    lines = entropy_file.readlines()\n",
    "    entropy = []\n",
    "    for line in lines:\n",
    "        if(line.split(' ')[0] == \"Entropia:\"):\n",
    "            entropy.append(float(line.split(' ')[1]))\n",
    "    return entropy"
   ]
  },
  {
   "cell_type": "code",
   "execution_count": null,
   "metadata": {},
   "outputs": [],
   "source": [
    "def show_source(source_path = \"wifiUbaLabo3/fuente_final.txt\"):\n",
    "    source_file =open(source_path, \"r\")\n",
    "    lines = source_file.readlines()\n",
    "    unicast_broadcast_symbol = []\n",
    "    protocol = []\n",
    "    for line in lines:\n",
    "        get_symbol = line.split(\"(\")[1].split(\")\")[0].split(',')\n",
    "        unicast_broadcast_symbol.append(get_symbol[0].split(\"'\")[1])\n",
    "        protocol.append(get_symbol[1].split(\"'\")[0])\n",
    "    return unicast_broadcast_symbol, protocol"
   ]
  }
 ],
 "metadata": {
  "kernelspec": {
   "display_name": "Python 3",
   "language": "python",
   "name": "python3"
  },
  "language_info": {
   "name": "python",
   "version": "3.8.10 (default, Mar 13 2023, 10:26:41) \n[GCC 9.4.0]"
  },
  "orig_nbformat": 4,
  "vscode": {
   "interpreter": {
    "hash": "916dbcbb3f70747c44a77c7bcd40155683ae19c65e1c03b4aa3499c5328201f1"
   }
  }
 },
 "nbformat": 4,
 "nbformat_minor": 2
}
