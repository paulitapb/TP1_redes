{
 "cells": [
  {
   "cell_type": "code",
   "execution_count": 1,
   "metadata": {},
   "outputs": [],
   "source": [
    "def get_entropy(entropy_path = \"cafeteria/fuente_ent_info_v4.txt\"):\n",
    "    entropy_file = open(entropy_path, \"r\")\n",
    "    lines = entropy_file.readlines()\n",
    "    entropy = []\n",
    "    for line in lines:\n",
    "        if(line.split(' ')[0] == \"Entropia:\"):\n",
    "            entropy.append(float(line.split(' ')[1]))\n",
    "    return entropy"
   ]
  },
  {
   "cell_type": "code",
   "execution_count": 2,
   "metadata": {},
   "outputs": [],
   "source": [
    "def show_source(source_path = \"cafeteria/fuente_final_sin_entropia.txt\"):\n",
    "    source_file =open(source_path, \"r\")\n",
    "    lines = source_file.readlines()\n",
    "    unicast = 0\n",
    "    broadcast = 0\n",
    "    unicast_broadcast_symbol = []\n",
    "    protocol = []\n",
    "    symbol_proba = {}\n",
    "    for line in lines:\n",
    "        get_symbol = line.split(\"(\")[1].split(\")\")[0].split(',')\n",
    "        unicast_broadcast = get_symbol[0].split(\"'\")[1]\n",
    "        unicast_broadcast_symbol.append(unicast_broadcast)\n",
    "        protocol_id = get_symbol[1].split(\"'\")[0]\n",
    "        protocol.append(protocol_id)\n",
    "\n",
    "        value = ((line.split(\",\")[2]).split(\" \"))[0]\n",
    "        if(get_symbol[0].split(\"'\")[1] == \"UNICAST\"):\n",
    "            unicast += float(value)\n",
    "        else:\n",
    "            broadcast += float(value)\n",
    "        symbol_proba[(protocol_id, unicast_broadcast)] = float(value)\n",
    "            \n",
    "    return unicast_broadcast_symbol, protocol, unicast, broadcast, symbol_proba"
   ]
  },
  {
   "cell_type": "code",
   "execution_count": 1,
   "metadata": {},
   "outputs": [],
   "source": [
    "import numpy as np\n",
    "\n",
    "def informationForSymbol(source_path=\"cafeteria/fuente_final_sin_entropia.txt\"):\n",
    "\n",
    "    source_file =open(source_path, \"r\")\n",
    "    lines = source_file.readlines()   \n",
    "    broadcastDict = {}\n",
    "    unicastDict = {}\n",
    "    infoForSymbol = {}\n",
    "    for line in lines:\n",
    "        protocol = (line.split(\",\")[1]).split(\")\")[0]\n",
    "        unicast_broadcast = (line.split(\",\")[0]).split(\"(\")[1]\n",
    "        information = line.split(\"Informacion del evento: \")[1]\n",
    "        \n",
    "        infoForSymbol[(protocol, unicast_broadcast)] = float(information)\n",
    "        if(unicast_broadcast == \"'UNICAST'\"):\n",
    "            unicastDict[protocol] = float(information)\n",
    "        else:\n",
    "            broadcastDict[protocol] = float(information)\n",
    "\n",
    "    protocols = np.unique(list(broadcastDict.keys()) + list(unicastDict.keys()))\n",
    "    base_dict = {}\n",
    "    for protocol in protocols:\n",
    "        base_dict[protocol] = 0\n",
    "\n",
    "    unicastRes = base_dict.copy()\n",
    "    broadcastRes = base_dict.copy()\n",
    "    sumRes = base_dict.copy()\n",
    "\n",
    "    for protocol in base_dict.keys():\n",
    "        sum = 0\n",
    "        if(protocol in unicastDict.keys()):\n",
    "            unicastRes[protocol] = unicastDict[protocol]\n",
    "            sum += unicastDict[protocol]\n",
    "        if(protocol in broadcastDict.keys()):\n",
    "            broadcastRes[protocol] = broadcastDict[protocol]\n",
    "            sum += broadcastDict[protocol]\n",
    "        sumRes[protocol] = sum\n",
    "\n",
    "    \n",
    "    \n",
    "\n",
    "    return unicastRes, broadcastRes, sumRes, infoForSymbol\n",
    "    \n",
    "\n"
   ]
  }
 ],
 "metadata": {
  "kernelspec": {
   "display_name": "Python 3",
   "language": "python",
   "name": "python3"
  },
  "language_info": {
   "codemirror_mode": {
    "name": "ipython",
    "version": 3
   },
   "file_extension": ".py",
   "mimetype": "text/x-python",
   "name": "python",
   "nbconvert_exporter": "python",
   "pygments_lexer": "ipython3",
   "version": "3.10.0"
  },
  "orig_nbformat": 4,
  "vscode": {
   "interpreter": {
    "hash": "916dbcbb3f70747c44a77c7bcd40155683ae19c65e1c03b4aa3499c5328201f1"
   }
  }
 },
 "nbformat": 4,
 "nbformat_minor": 2
}
