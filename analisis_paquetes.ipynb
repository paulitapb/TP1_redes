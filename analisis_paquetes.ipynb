{
 "cells": [
  {
   "attachments": {},
   "cell_type": "markdown",
   "metadata": {},
   "source": [
    "# Análisis de paquetes"
   ]
  },
  {
   "cell_type": "code",
   "execution_count": 1,
   "metadata": {},
   "outputs": [
    {
     "name": "stdout",
     "output_type": "stream",
     "text": [
      "importing Jupyter notebook from utils.ipynb\n"
     ]
    }
   ],
   "source": [
    "import pandas as pd\n",
    "import numpy as np\n",
    "import collections\n",
    "import matplotlib.pyplot as plt\n",
    "import import_ipynb\n",
    "import utils as utils"
   ]
  },
  {
   "attachments": {},
   "cell_type": "markdown",
   "metadata": {},
   "source": [
    "Graficar entropia a medida que llegan paquetes"
   ]
  },
  {
   "cell_type": "code",
   "execution_count": 2,
   "metadata": {},
   "outputs": [
    {
     "data": {
      "image/png": "[encoded data removed]",
      "text/plain": [
       "<Figure size 432x288 with 1 Axes>"
      ]
     },
     "metadata": {
      "needs_background": "light"
     },
     "output_type": "display_data"
    }
   ],
   "source": [
    "plt.plot(utils.get_entropy())\n",
    "plt.title(\"entropia a medida que procesamos paquetes\")\n",
    "plt.xlabel(\"cantidad de paquetes\")\n",
    "plt.ylabel(\"entropia\")\n",
    "plt.show()"
   ]
  },
  {
   "attachments": {},
   "cell_type": "markdown",
   "metadata": {},
   "source": [
    "Análisis de la fuente final: \n",
    " - Cantidad de Broadcast vs Unicast "
   ]
  },
  {
   "cell_type": "code",
   "execution_count": 3,
   "metadata": {},
   "outputs": [
    {
     "name": "stdout",
     "output_type": "stream",
     "text": [
      "percent unicast 0.57704\n",
      "percent broadcast 0.42295\n"
     ]
    }
   ],
   "source": [
    "unicast_broadcast_symbol, protocol, percent_unicast, percent_broadcast , symbol_proba= utils.show_source()\n",
    "print(\"percent unicast\", percent_unicast)\n",
    "print(\"percent broadcast\", percent_broadcast)"
   ]
  },
  {
   "attachments": {},
   "cell_type": "markdown",
   "metadata": {},
   "source": [
    "- Porcentaje de cada protocolo"
   ]
  },
  {
   "cell_type": "code",
   "execution_count": 29,
   "metadata": {},
   "outputs": [
    {
     "name": "stdout",
     "output_type": "stream",
     "text": [
      "porcentaje por protocolo {' 2048': 0.8752800000000001, ' 2054': 0.01475, ' 2697': 0.00019, ' 34525': 0.10977}\n"
     ]
    }
   ],
   "source": [
    "percent_per_protocol = {p : 0 for p in np.unique(protocol)}\n",
    "\n",
    "suma = np.sum(list(d.values()))\n",
    "\n",
    "for s, proba in symbol_proba.items():\n",
    "    percent_per_protocol[s[0]] += proba\n",
    "\n",
    "print(\"porcentaje por protocolo\", percent_per_protocol)\n"
   ]
  },
  {
   "attachments": {},
   "cell_type": "markdown",
   "metadata": {},
   "source": [
    "- Gráfico de la fuente"
   ]
  },
  {
   "cell_type": "code",
   "execution_count": 60,
   "metadata": {},
   "outputs": [
    {
     "data": {
      "text/plain": [
       "{(' 2048', 'UNICAST'): 0.4641,\n",
       " (' 2048', 'BROADCAST'): 0.41118,\n",
       " (' 34525', 'UNICAST'): 0.10977,\n",
       " (' 2054', 'BROADCAST'): 0.01158,\n",
       " (' 2054', 'UNICAST'): 0.00317,\n",
       " (' 2697', 'BROADCAST'): 0.00019}"
      ]
     },
     "execution_count": 60,
     "metadata": {},
     "output_type": "execute_result"
    }
   ],
   "source": [
    "symbol_proba"
   ]
  },
  {
   "cell_type": "code",
   "execution_count": 63,
   "metadata": {},
   "outputs": [
    {
     "name": "stdout",
     "output_type": "stream",
     "text": [
      "{' 2697': 0, ' 2054': 0.00317, ' 34525': 0.10977, ' 2048': 0.4641}\n"
     ]
    }
   ],
   "source": [
    "\n",
    "\n",
    "print(unicast)"
   ]
  },
  {
   "cell_type": "code",
   "execution_count": 64,
   "metadata": {},
   "outputs": [
    {
     "data": {
      "text/plain": [
       "[]"
      ]
     },
     "execution_count": 64,
     "metadata": {},
     "output_type": "execute_result"
    },
    {
     "data": {
      "image/png": "[encoded data removed]",
      "text/plain": [
       "<Figure size 432x288 with 1 Axes>"
      ]
     },
     "metadata": {
      "needs_background": "light"
     },
     "output_type": "display_data"
    }
   ],
   "source": [
    "protocols_unique = np.unique(protocol)\n",
    "unicast = {}\n",
    "broadcast = {}\n",
    "\n",
    "for p in protocols_unique:\n",
    "    if((p, 'UNICAST') in list(symbol_proba.keys())):\n",
    "        unicast[p] = symbol_proba[(p, 'UNICAST')] \n",
    "    else:\n",
    "        if(not (p, 'BROADCAST') in symbol_proba.keys()):\n",
    "            unicast[p] = 0\n",
    "    if((p, 'BROADCAST') in list(symbol_proba.keys())):\n",
    "        broadcast[p] = symbol_proba[(p, 'BROADCAST')] \n",
    "    else:\n",
    "        if(not (p, 'UNICAST') in symbol_proba.keys()):\n",
    "            broadcast[p] = 0\n",
    "\n",
    "fig, ax = plt.subplots()\n",
    "\n",
    "ax.bar(unicast.keys(), list(unicast.values()), label = \"unicast\")\n",
    "ax.bar(broadcast.keys(), list(broadcast.values()), bottom=list(unicast.values()), label = \"broadcast\")\n",
    "plt.xlabel(\"protocol\")\n",
    "ax.set_title(\"Fuente\")\n",
    "ax.legend()\n",
    "ax.set_yticks([])"
   ]
  }
 ],
 "metadata": {
  "kernelspec": {
   "display_name": "Python 3",
   "language": "python",
   "name": "python3"
  },
  "language_info": {
   "codemirror_mode": {
    "name": "ipython",
    "version": 3
   },
   "file_extension": ".py",
   "mimetype": "text/x-python",
   "name": "python",
   "nbconvert_exporter": "python",
   "pygments_lexer": "ipython3",
   "version": "3.8.10"
  },
  "orig_nbformat": 4,
  "vscode": {
   "interpreter": {
    "hash": "916dbcbb3f70747c44a77c7bcd40155683ae19c65e1c03b4aa3499c5328201f1"
   }
  }
 },
 "nbformat": 4,
 "nbformat_minor": 2
}
