{
 "cells": [
  {
   "attachments": {},
   "cell_type": "markdown",
   "metadata": {},
   "source": [
    "# Análisis de paquetes"
   ]
  },
  {
   "cell_type": "code",
   "execution_count": 1,
   "metadata": {},
   "outputs": [
    {
     "name": "stdout",
     "output_type": "stream",
     "text": [
      "importing Jupyter notebook from utils.ipynb\n"
     ]
    }
   ],
   "source": [
    "#!pip3 install pandas\n",
    "#!pip3 install matplotlib\n",
    "#!pip3 install import_ipynb\n",
    "#!pip3 install scapy\n",
    "import pandas as pd\n",
    "from scapy.all import *\n",
    "import numpy as np\n",
    "import collections\n",
    "import matplotlib.pyplot as plt\n",
    "import import_ipynb\n",
    "import utils as utils"
   ]
  },
  {
   "attachments": {},
   "cell_type": "markdown",
   "metadata": {},
   "source": [
    "Graficar entropia a medida que llegan paquetes"
   ]
  },
  {
   "cell_type": "code",
   "execution_count": 2,
   "metadata": {},
   "outputs": [
    {
     "data": {
      "image/png": "[encoded data removed]",
      "text/plain": [
       "<Figure size 432x288 with 1 Axes>"
      ]
     },
     "metadata": {
      "needs_background": "light"
     },
     "output_type": "display_data"
    }
   ],
   "source": [
    "plt.plot(utils.get_entropy())\n",
    "plt.title(\"entropia a medida que procesamos paquetes\")\n",
    "plt.xlabel(\"cantidad de paquetes\")\n",
    "plt.ylabel(\"entropia\")\n",
    "plt.show()"
   ]
  },
  {
   "attachments": {},
   "cell_type": "markdown",
   "metadata": {},
   "source": [
    "Análisis de la fuente final: \n",
    " - Cantidad de Broadcast vs Unicast "
   ]
  },
  {
   "cell_type": "code",
   "execution_count": 5,
   "metadata": {},
   "outputs": [
    {
     "name": "stdout",
     "output_type": "stream",
     "text": [
      "percent unicast 0.86106\n",
      "percent broadcast 0.13894\n"
     ]
    }
   ],
   "source": [
    "unicast_broadcast_symbol, protocol, percent_unicast, percent_broadcast= utils.show_source()\n",
    "\n",
    "print(\"percent unicast\", percent_unicast)\n",
    "print(\"percent broadcast\", percent_broadcast)\n"
   ]
  },
  {
   "cell_type": "markdown",
   "metadata": {},
   "source": [
    "<h1>Analisis de los paquetes con Scapy</h1>"
   ]
  },
  {
   "cell_type": "code",
   "execution_count": 6,
   "metadata": {},
   "outputs": [
    {
     "name": "stdout",
     "output_type": "stream",
     "text": [
      "<LucyCasa.pcapng: TCP:4086 UDP:5500 ICMP:4 Other:1472>\n"
     ]
    }
   ],
   "source": [
    "#path to the input .pcapng to read\n",
    "path = 'Lucy_Wifi_Casa/LucyCasa.pcapng'\n",
    "packets = rdpcap(path)\n",
    "print(packets)"
   ]
  },
  {
   "cell_type": "markdown",
   "metadata": {},
   "source": [
    "Cantidad de paquetes"
   ]
  },
  {
   "cell_type": "code",
   "execution_count": 7,
   "metadata": {},
   "outputs": [
    {
     "name": "stdout",
     "output_type": "stream",
     "text": [
      "Lucy_Wifi_Casa/LucyCasa.pcapng contains 11062 packets\n"
     ]
    }
   ],
   "source": [
    "def get_packets_amount(file_name):\n",
    "    count = 0\n",
    "    for (pkt_data, pkt_metadata,) in RawPcapReader(file_name):\n",
    "        count += 1\n",
    "    return count\n",
    "\n",
    "packets_amount = get_packets_amount(path)\n",
    "print('{} contains {} packets'.format(path, packets_amount))"
   ]
  },
  {
   "cell_type": "markdown",
   "metadata": {},
   "source": [
    "IPs"
   ]
  },
  {
   "cell_type": "code",
   "execution_count": 8,
   "metadata": {},
   "outputs": [
    {
     "name": "stdout",
     "output_type": "stream",
     "text": [
      "192.168.0.142: 4115\n",
      "fe80::2513:50bf:3ec6:f028: 1568\n",
      "192.168.0.174: 848\n",
      "162.159.129.233: 697\n",
      "162.159.133.234: 490\n",
      "192.168.0.254: 468\n",
      "192.168.0.24: 314\n",
      "35.186.224.47: 148\n",
      "52.137.108.250: 116\n",
      "181.30.140.132: 68\n",
      "192.168.0.194: 57\n",
      "35.186.224.25: 56\n",
      "200.42.33.80: 53\n",
      "162.159.136.234: 47\n",
      "52.97.26.98: 41\n",
      "8.51.8.126: 40\n",
      "162.159.134.234: 39\n",
      "162.159.137.232: 39\n",
      "23.55.65.90: 37\n",
      "201.212.32.241: 35\n",
      "200.42.33.64: 34\n",
      "20.96.153.111: 27\n",
      "192.168.0.236: 24\n",
      "13.107.5.88: 24\n",
      "192.168.0.1: 23\n",
      "13.71.55.58: 23\n",
      "20.106.86.13: 22\n",
      "200.42.93.97: 21\n",
      "51.104.167.245: 20\n",
      "162.159.137.234: 19\n",
      "52.226.139.180: 18\n",
      "200.42.33.97: 18\n",
      "162.159.136.232: 18\n",
      "20.69.137.228: 18\n",
      "201.212.32.242: 17\n",
      "23.55.68.240: 15\n",
      "13.107.4.52: 15\n",
      "52.182.143.210: 14\n",
      "20.54.24.79: 13\n",
      "162.159.135.233: 13\n",
      "52.138.124.216: 13\n",
      "13.86.61.82: 13\n",
      "181.30.140.199: 12\n",
      "52.178.17.3: 12\n",
      "52.167.17.97: 11\n",
      "204.79.197.203: 11\n",
      "20.189.173.3: 10\n",
      "192.16.49.85: 9\n",
      "162.159.128.233: 8\n",
      "0.0.0.0: 7\n",
      "::: 6\n",
      "152.199.55.200: 5\n",
      "52.142.223.178: 5\n",
      "23.192.134.91: 5\n",
      "143.166.199.30: 4\n",
      "192.168.0.73: 4\n",
      "143.166.28.30: 4\n",
      "200.42.33.168: 2\n",
      "201.212.32.233: 2\n",
      "200.42.93.80: 2\n",
      "201.212.32.234: 2\n",
      "142.250.0.188: 1\n",
      "13.89.178.27: 1\n",
      "52.97.26.34: 1\n",
      "52.108.8.254: 1\n",
      "204.79.197.222: 1\n",
      "Total IPS:  66\n"
     ]
    }
   ],
   "source": [
    "param = \"src\"\n",
    "\n",
    "def count_ips(option):\n",
    "  ip_count = {}\n",
    "  for packet in packets:\n",
    "    if IP in packet:\n",
    "        if option == \"dst\" or option == \"both\":\n",
    "          dst_ip = packet[IP].dst\n",
    "          ip_count[dst_ip] = ip_count.get(dst_ip, 0) + 1\n",
    "        if option == \"src\" or option == \"both\":\n",
    "          src_ip = packet[IP].src\n",
    "          ip_count[src_ip] = ip_count.get(src_ip, 0) + 1\n",
    "    elif IPv6 in packet:\n",
    "        if option == \"dst\" or option == \"both\":\n",
    "          dst_ip = packet[IPv6].dst\n",
    "          ip_count[dst_ip] = ip_count.get(dst_ip, 0) + 1\n",
    "        if option == \"src\" or option == \"both\":\n",
    "          src_ip = packet[IPv6].src\n",
    "          ip_count[src_ip] = ip_count.get(src_ip, 0) + 1\n",
    "  return ip_count\n",
    "\n",
    "\n",
    "sorted_ips = sorted(count_ips(param).items(), key=lambda x: x[1], reverse=True)"
   ]
  },
  {
   "cell_type": "markdown",
   "metadata": {},
   "source": [
    "Cantidad de apariciones de cada IP"
   ]
  },
  {
   "cell_type": "code",
   "execution_count": 14,
   "metadata": {},
   "outputs": [
    {
     "name": "stdout",
     "output_type": "stream",
     "text": [
      "192.168.0.142: 4115\n",
      "fe80::2513:50bf:3ec6:f028: 1568\n",
      "192.168.0.174: 848\n",
      "162.159.129.233: 697\n",
      "162.159.133.234: 490\n",
      "192.168.0.254: 468\n",
      "192.168.0.24: 314\n",
      "35.186.224.47: 148\n",
      "52.137.108.250: 116\n",
      "181.30.140.132: 68\n",
      "192.168.0.194: 57\n",
      "35.186.224.25: 56\n",
      "200.42.33.80: 53\n",
      "162.159.136.234: 47\n",
      "52.97.26.98: 41\n",
      "8.51.8.126: 40\n",
      "162.159.134.234: 39\n",
      "162.159.137.232: 39\n",
      "23.55.65.90: 37\n",
      "201.212.32.241: 35\n",
      "200.42.33.64: 34\n",
      "20.96.153.111: 27\n",
      "192.168.0.236: 24\n",
      "13.107.5.88: 24\n",
      "192.168.0.1: 23\n",
      "13.71.55.58: 23\n",
      "20.106.86.13: 22\n",
      "200.42.93.97: 21\n",
      "51.104.167.245: 20\n",
      "162.159.137.234: 19\n",
      "52.226.139.180: 18\n",
      "200.42.33.97: 18\n",
      "162.159.136.232: 18\n",
      "20.69.137.228: 18\n",
      "201.212.32.242: 17\n",
      "23.55.68.240: 15\n",
      "13.107.4.52: 15\n",
      "52.182.143.210: 14\n",
      "20.54.24.79: 13\n",
      "162.159.135.233: 13\n",
      "52.138.124.216: 13\n",
      "13.86.61.82: 13\n",
      "181.30.140.199: 12\n",
      "52.178.17.3: 12\n",
      "52.167.17.97: 11\n",
      "204.79.197.203: 11\n",
      "20.189.173.3: 10\n",
      "192.16.49.85: 9\n",
      "162.159.128.233: 8\n",
      "0.0.0.0: 7\n",
      "::: 6\n",
      "152.199.55.200: 5\n",
      "52.142.223.178: 5\n",
      "23.192.134.91: 5\n",
      "143.166.199.30: 4\n",
      "192.168.0.73: 4\n",
      "143.166.28.30: 4\n",
      "200.42.33.168: 2\n",
      "201.212.32.233: 2\n",
      "200.42.93.80: 2\n",
      "201.212.32.234: 2\n",
      "142.250.0.188: 1\n",
      "13.89.178.27: 1\n",
      "52.97.26.34: 1\n",
      "52.108.8.254: 1\n",
      "204.79.197.222: 1\n"
     ]
    }
   ],
   "source": [
    "for ip, count in sorted_ips:\n",
    "    print(f\"{ip}: {count}\")"
   ]
  },
  {
   "cell_type": "markdown",
   "metadata": {},
   "source": [
    "Cantidad de IPs Distintos"
   ]
  },
  {
   "cell_type": "code",
   "execution_count": 15,
   "metadata": {},
   "outputs": [
    {
     "name": "stdout",
     "output_type": "stream",
     "text": [
      "Total IPs distintos:  66\n"
     ]
    }
   ],
   "source": [
    "print(\"Total IPs distintos: \", len(sorted_ips))"
   ]
  },
  {
   "cell_type": "markdown",
   "metadata": {},
   "source": [
    "Cantidad de apariciones de cada IP perteneciente a la Red"
   ]
  },
  {
   "cell_type": "code",
   "execution_count": 9,
   "metadata": {},
   "outputs": [
    {
     "name": "stdout",
     "output_type": "stream",
     "text": [
      "192.168.0.142: 4115\n",
      "192.168.0.174: 848\n",
      "192.168.0.254: 468\n",
      "192.168.0.24: 314\n",
      "192.168.0.194: 57\n",
      "192.168.0.236: 24\n",
      "192.168.0.1: 23\n",
      "192.168.0.73: 4\n"
     ]
    }
   ],
   "source": [
    "for ip, count in sorted_ips:\n",
    "    if ip.startswith(\"192.168\"):\n",
    "        print(f\"{ip}: {count}\")"
   ]
  },
  {
   "cell_type": "markdown",
   "metadata": {},
   "source": [
    "Cantidad de apariciones de cada protocolo"
   ]
  },
  {
   "cell_type": "code",
   "execution_count": 10,
   "metadata": {},
   "outputs": [
    {
     "name": "stdout",
     "output_type": "stream",
     "text": [
      "tcp: 4086\n",
      "udp: 4021\n",
      "??: 2812\n",
      "igmp: 139\n",
      "icmp: 4\n"
     ]
    }
   ],
   "source": [
    "def count_protocols():\n",
    "  protocol_count = {}\n",
    "  for packet in packets:\n",
    "    protocol = packet.sprintf(\"%IP.proto%\")\n",
    "    protocol_count[protocol] = protocol_count.get(protocol, 0) + 1\n",
    "  return protocol_count\n",
    "\n",
    "sorted_protocols = sorted(count_protocols().items(), key=lambda x: x[1], reverse=True)\n",
    "# Imprime los resultados\n",
    "for protocol, count in sorted_protocols:\n",
    "    print(f\"{protocol}: {count}\")"
   ]
  },
  {
   "cell_type": "markdown",
   "metadata": {},
   "source": [
    "Unicast vs. Broadcast"
   ]
  },
  {
   "cell_type": "code",
   "execution_count": 11,
   "metadata": {},
   "outputs": [
    {
     "name": "stdout",
     "output_type": "stream",
     "text": [
      "Paquetes Unicast: 9525\n",
      "Paquetes Broadcast: 1537\n"
     ]
    }
   ],
   "source": [
    "def count_broadcast_and_unicast():\n",
    "    unicast_count = 0\n",
    "    broadcast_count = 0\n",
    "    for packet in packets:\n",
    "        if packet.dst == 'ff:ff:ff:ff:ff:ff':\n",
    "            broadcast_count += 1\n",
    "        else:\n",
    "            unicast_count += 1\n",
    "    return unicast_count, broadcast_count \n",
    "\n",
    "unicast, broadcast = count_broadcast_and_unicast()\n",
    "print(f\"Paquetes Unicast: {unicast}\")\n",
    "print(f\"Paquetes Broadcast: {broadcast}\")"
   ]
  },
  {
   "cell_type": "code",
   "execution_count": 12,
   "metadata": {},
   "outputs": [
    {
     "name": "stdout",
     "output_type": "stream",
     "text": [
      "Paquetes Unicast: 86.11%\n",
      "Paquetes Broadcast: 13.89%\n"
     ]
    }
   ],
   "source": [
    "unicast, broadcast = count_broadcast_and_unicast()\n",
    "total_packets = unicast + broadcast\n",
    "unicast_percentage = (unicast / total_packets) * 100\n",
    "broadcast_percentage = (broadcast / total_packets) * 100\n",
    "\n",
    "print(f\"Paquetes Unicast: {unicast_percentage:.2f}%\")\n",
    "print(f\"Paquetes Broadcast: {broadcast_percentage:.2f}%\")"
   ]
  }
 ],
 "metadata": {
  "kernelspec": {
   "display_name": "Python 3",
   "language": "python",
   "name": "python3"
  },
  "language_info": {
   "codemirror_mode": {
    "name": "ipython",
    "version": 3
   },
   "file_extension": ".py",
   "mimetype": "text/x-python",
   "name": "python",
   "nbconvert_exporter": "python",
   "pygments_lexer": "ipython3",
   "version": "3.8.10"
  },
  "orig_nbformat": 4,
  "vscode": {
   "interpreter": {
    "hash": "916dbcbb3f70747c44a77c7bcd40155683ae19c65e1c03b4aa3499c5328201f1"
   }
  }
 },
 "nbformat": 4,
 "nbformat_minor": 2
}
